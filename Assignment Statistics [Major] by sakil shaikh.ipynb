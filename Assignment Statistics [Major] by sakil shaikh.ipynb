{
 "cells": [
  {
   "cell_type": "code",
   "execution_count": 1,
   "id": "3d5d35b7",
   "metadata": {},
   "outputs": [],
   "source": [
    "import pandas as pd\n",
    "import numpy as np\n",
    "import statistics as stat\n",
    "from scipy.stats import stats\n",
    "import warnings\n",
    "warnings.filterwarnings('ignore')"
   ]
  },
  {
   "cell_type": "markdown",
   "id": "27c3a9a6",
   "metadata": {},
   "source": [
    "<b>Q1) : According to a study,the daily average time spent by a user on a social media website is 50 minutes.\n",
    "To test the claim of this study,Ramesh,are searcher,takes a sample of 25 website users and findsout that the mean time spent by the sample users is 60 minutes and the sample standard deviation is 30 minutes.\n",
    "Based on this information,the null and the alternative hypotheses will be:<br>\n",
    "    \n",
    "Ho=The average time spent by the users is 50 minutes<br>\n",
    "H1=The average time spent by the users is not 50 minutes<br>\n",
    "Use a 5% significance level to test this hypothesis.<br>"
   ]
  },
  {
   "cell_type": "code",
   "execution_count": 10,
   "id": "3b884d0f",
   "metadata": {},
   "outputs": [
    {
     "name": "stdout",
     "output_type": "stream",
     "text": [
      "r_values 1.6666666666666667\n",
      "p_values 3.0\n"
     ]
    }
   ],
   "source": [
    "daily_time_mean = 50\n",
    "sample_mean = 60\n",
    "sample_std_dev = 30\n",
    "sample_size = 25\n",
    "\n",
    "r = (sample_mean-daily_time_mean)/(sample_std_dev/(sample_size**0.5))\n",
    "p = (sample_mean-sample_std_dev)/(daily_time_mean/(sample_size**0.5))\n",
    "print('r_values',r)\n",
    "print('p_values',p)"
   ]
  },
  {
   "cell_type": "markdown",
   "id": "2ab6e0de",
   "metadata": {},
   "source": [
    "<b> Q2) : Height of 7 students (incm) is given below. <br>What is the median?\n",
    "168 170 169 160 162 164 162."
   ]
  },
  {
   "cell_type": "code",
   "execution_count": 43,
   "id": "aae5cb44",
   "metadata": {},
   "outputs": [
    {
     "name": "stdout",
     "output_type": "stream",
     "text": [
      "Median is : 164\n"
     ]
    }
   ],
   "source": [
    "a = pd.Series([168,170,169,160,162,164,162])\n",
    "print('Median is :',stat.median(a))"
   ]
  },
  {
   "cell_type": "markdown",
   "id": "de06e1f9",
   "metadata": {},
   "source": [
    "<b> Q3) : Below are the observations of the marks of a student. Find the value of mode."
   ]
  },
  {
   "cell_type": "code",
   "execution_count": 42,
   "id": "23e5f4fb",
   "metadata": {},
   "outputs": [
    {
     "name": "stdout",
     "output_type": "stream",
     "text": [
      "Mode of b is : 89\n"
     ]
    }
   ],
   "source": [
    "b = pd.Series([84,85,89,92,93,89,87,89,92])\n",
    "print('Mode of b is :',stat.mode(b)) "
   ]
  },
  {
   "cell_type": "markdown",
   "id": "4909cbb5",
   "metadata": {},
   "source": [
    "<b>Q4) : From the table given below, what is the mean of marks obtained by 20 students?<br>\n",
    "Marks Xi: 3,4,5,6,7,8,9,10<br>\n",
    "No. of Students Fi: 1,2,2,4,5,3,2,1"
   ]
  },
  {
   "cell_type": "code",
   "execution_count": 74,
   "id": "0beddd9b",
   "metadata": {},
   "outputs": [
    {
     "name": "stdout",
     "output_type": "stream",
     "text": [
      "Total No. of Students is : 20\n",
      "Mean of marks is : 6.5\n"
     ]
    }
   ],
   "source": [
    "o = {'Marks_Xi':[3,4,5,6,7,8,9,10],\n",
    "    'No_of_Students':[1,2,2,4,5,3,2,1]}\n",
    "\n",
    "df = pd.DataFrame(o)\n",
    "print('Total No. of Students is :',df['No_of_Students'].sum())\n",
    "print('Mean of marks is :',df['Marks_Xi'].mean())"
   ]
  },
  {
   "cell_type": "markdown",
   "id": "89b2b7cd",
   "metadata": {},
   "source": [
    "<b> Q5) : For a certain type of computer, the length of time between charges of the battery is normally distributed with a mean of 50 hours and a standard deviation of 15 hours.\n",
    "John owns one of these computers and wants to know the probability that the length of time will be between 50 and 70 hours."
   ]
  },
  {
   "cell_type": "code",
   "execution_count": 65,
   "id": "864a98ee",
   "metadata": {},
   "outputs": [
    {
     "name": "stdout",
     "output_type": "stream",
     "text": [
      "Probability 0.4087887802741321\n"
     ]
    }
   ],
   "source": [
    "from scipy.stats import norm\n",
    "\n",
    "mean = 50\n",
    "std = 15\n",
    "\n",
    "pro = (norm(mean,std).cdf(70)-norm(mean,std).cdf(50))\n",
    "\n",
    "print('Probability',pro)"
   ]
  },
  {
   "cell_type": "markdown",
   "id": "4076a54a",
   "metadata": {},
   "source": [
    "<b> Q6) : Find the range of the following.<br>\n",
    "g = [10, 23, 12, 21, 14, 17, 16, 11, 15, 19]\n"
   ]
  },
  {
   "cell_type": "code",
   "execution_count": 75,
   "id": "e8968b4e",
   "metadata": {},
   "outputs": [
    {
     "name": "stdout",
     "output_type": "stream",
     "text": [
      "range is : 13\n"
     ]
    }
   ],
   "source": [
    "g = pd.Series([10,23,12,21,14,17,16,11,15,19])\n",
    "range = g.max()-g.min()\n",
    "print('range is :',range)"
   ]
  },
  {
   "cell_type": "markdown",
   "id": "92aba962",
   "metadata": {},
   "source": [
    "<b> Q7) : It is estimated that 50% of emails are spam emails.Some software has been applied to filter these spam emails before they reach your inbox. A certain brand of software claims that it can detect 99% of spam emails, and the probability for a false positive (a non-spam email detected as spam) is 5%. Now if an email is detected as spam, then what is the probability that it is in fact a non-spam email?\n"
   ]
  },
  {
   "cell_type": "code",
   "execution_count": 86,
   "id": "d195e180",
   "metadata": {},
   "outputs": [
    {
     "name": "stdout",
     "output_type": "stream",
     "text": [
      "probability of non-spam email is : 0.04807692307692308\n"
     ]
    }
   ],
   "source": [
    "a = 0.5         # 50% spam emails\n",
    "b = 0.5         \n",
    "c = 0.99        # 99% of software claims   \n",
    "d = 0.05        # 5% of email\n",
    "\n",
    "e = (d*b)/(c*a+d*b)\n",
    "print('probability of non-spam email is :',e)"
   ]
  },
  {
   "cell_type": "markdown",
   "id": "aeecc16c",
   "metadata": {},
   "source": [
    "<b> Q8) : Given the following distribution of returns, determine the lower quartile: <br>\n",
    "{10 25 12 21 19 17 16 11 15 19}\n"
   ]
  },
  {
   "cell_type": "code",
   "execution_count": 89,
   "id": "9941ed82",
   "metadata": {},
   "outputs": [
    {
     "name": "stdout",
     "output_type": "stream",
     "text": [
      "Lower Quartile is : 12.75\n"
     ]
    }
   ],
   "source": [
    "x = [10,25,12,21,19,17,16,11,15,19]\n",
    "\n",
    "df = pd.Series(x)\n",
    "\n",
    "x= df.quantile(0.25)\n",
    "\n",
    "print('Lower Quartile is :',x)"
   ]
  },
  {
   "cell_type": "markdown",
   "id": "69943308",
   "metadata": {},
   "source": [
    "<b> Q9) : For a Binomial distribution, the number of trials(n) is 25, and the probability of success is 0.3. What’s the variability of the distribution?"
   ]
  },
  {
   "cell_type": "code",
   "execution_count": 93,
   "id": "d44cb3ce",
   "metadata": {},
   "outputs": [
    {
     "name": "stdout",
     "output_type": "stream",
     "text": [
      "Variability of Binomial distribution is: 5.25\n"
     ]
    }
   ],
   "source": [
    "## no of trials:\n",
    "\n",
    "a = 25\n",
    "\n",
    "## probability of success:\n",
    "\n",
    "b = 0.3\n",
    "\n",
    "## variability of the distribution: variability = (a*b*c)  (where a= no.of trails, b=probability of success ,c=(1-p) )\n",
    "\n",
    "c = (1-b)\n",
    "\n",
    "variability= (a*b*c)\n",
    "\n",
    "print('Variability of Binomial distribution is:',variability)"
   ]
  },
  {
   "cell_type": "markdown",
   "id": "649804b2",
   "metadata": {},
   "source": [
    "<b> Q10) : Download the Cell Phone Survey Dataset and perform the below mentioned operations on the dataset:"
   ]
  },
  {
   "cell_type": "code",
   "execution_count": 104,
   "id": "2a5d7ff8",
   "metadata": {},
   "outputs": [
    {
     "data": {
      "text/html": [
       "<div>\n",
       "<style scoped>\n",
       "    .dataframe tbody tr th:only-of-type {\n",
       "        vertical-align: middle;\n",
       "    }\n",
       "\n",
       "    .dataframe tbody tr th {\n",
       "        vertical-align: top;\n",
       "    }\n",
       "\n",
       "    .dataframe thead th {\n",
       "        text-align: right;\n",
       "    }\n",
       "</style>\n",
       "<table border=\"1\" class=\"dataframe\">\n",
       "  <thead>\n",
       "    <tr style=\"text-align: right;\">\n",
       "      <th></th>\n",
       "      <th>Gender</th>\n",
       "      <th>Carrier</th>\n",
       "      <th>Type</th>\n",
       "      <th>Usage</th>\n",
       "      <th>Signal strength</th>\n",
       "      <th>Value for the Dollar</th>\n",
       "      <th>Customer Service</th>\n",
       "    </tr>\n",
       "  </thead>\n",
       "  <tbody>\n",
       "    <tr>\n",
       "      <th>0</th>\n",
       "      <td>M</td>\n",
       "      <td>AT&amp;T</td>\n",
       "      <td>Smart</td>\n",
       "      <td>High</td>\n",
       "      <td>5</td>\n",
       "      <td>4</td>\n",
       "      <td>4</td>\n",
       "    </tr>\n",
       "    <tr>\n",
       "      <th>1</th>\n",
       "      <td>M</td>\n",
       "      <td>AT&amp;T</td>\n",
       "      <td>Smart</td>\n",
       "      <td>High</td>\n",
       "      <td>5</td>\n",
       "      <td>4</td>\n",
       "      <td>2</td>\n",
       "    </tr>\n",
       "    <tr>\n",
       "      <th>2</th>\n",
       "      <td>M</td>\n",
       "      <td>AT&amp;T</td>\n",
       "      <td>Smart</td>\n",
       "      <td>Average</td>\n",
       "      <td>4</td>\n",
       "      <td>4</td>\n",
       "      <td>4</td>\n",
       "    </tr>\n",
       "    <tr>\n",
       "      <th>3</th>\n",
       "      <td>M</td>\n",
       "      <td>AT&amp;T</td>\n",
       "      <td>Smart</td>\n",
       "      <td>Very high</td>\n",
       "      <td>2</td>\n",
       "      <td>3</td>\n",
       "      <td>3</td>\n",
       "    </tr>\n",
       "    <tr>\n",
       "      <th>4</th>\n",
       "      <td>M</td>\n",
       "      <td>AT&amp;T</td>\n",
       "      <td>Smart</td>\n",
       "      <td>Very high</td>\n",
       "      <td>5</td>\n",
       "      <td>5</td>\n",
       "      <td>2</td>\n",
       "    </tr>\n",
       "  </tbody>\n",
       "</table>\n",
       "</div>"
      ],
      "text/plain": [
       "  Gender Carrier   Type      Usage  Signal strength  Value for the Dollar  \\\n",
       "0      M    AT&T  Smart       High                5                     4   \n",
       "1      M    AT&T  Smart       High                5                     4   \n",
       "2      M    AT&T  Smart    Average                4                     4   \n",
       "3      M    AT&T  Smart  Very high                2                     3   \n",
       "4      M    AT&T  Smart  Very high                5                     5   \n",
       "\n",
       "   Customer Service  \n",
       "0                 4  \n",
       "1                 2  \n",
       "2                 4  \n",
       "3                 3  \n",
       "4                 2  "
      ]
     },
     "execution_count": 104,
     "metadata": {},
     "output_type": "execute_result"
    }
   ],
   "source": [
    "df = pd.read_csv('Cell Phone Survey.csv')\n",
    "df.head()"
   ]
  },
  {
   "cell_type": "markdown",
   "id": "5d4cc50a",
   "metadata": {},
   "source": [
    "Checking the shape of Dataset"
   ]
  },
  {
   "cell_type": "code",
   "execution_count": 106,
   "id": "c008b3e6",
   "metadata": {},
   "outputs": [
    {
     "data": {
      "text/plain": [
       "(52, 7)"
      ]
     },
     "execution_count": 106,
     "metadata": {},
     "output_type": "execute_result"
    }
   ],
   "source": [
    "df.shape"
   ]
  },
  {
   "cell_type": "markdown",
   "id": "c5e4b826",
   "metadata": {},
   "source": [
    "Checking Datatypes of each Columns in the Dataset"
   ]
  },
  {
   "cell_type": "code",
   "execution_count": 107,
   "id": "d44efec9",
   "metadata": {},
   "outputs": [
    {
     "data": {
      "text/plain": [
       "Gender                  object\n",
       "Carrier                 object\n",
       "Type                    object\n",
       "Usage                   object\n",
       "Signal strength          int64\n",
       "Value for the Dollar     int64\n",
       "Customer Service         int64\n",
       "dtype: object"
      ]
     },
     "execution_count": 107,
     "metadata": {},
     "output_type": "execute_result"
    }
   ],
   "source": [
    "df.dtypes"
   ]
  },
  {
   "cell_type": "markdown",
   "id": "42a4a3dc",
   "metadata": {},
   "source": [
    "Checking null values of each Columns in the Dataset"
   ]
  },
  {
   "cell_type": "code",
   "execution_count": 108,
   "id": "67a18641",
   "metadata": {},
   "outputs": [
    {
     "data": {
      "text/plain": [
       "Gender                  0\n",
       "Carrier                 0\n",
       "Type                    0\n",
       "Usage                   0\n",
       "Signal strength         0\n",
       "Value for the Dollar    0\n",
       "Customer Service        0\n",
       "dtype: int64"
      ]
     },
     "execution_count": 108,
     "metadata": {},
     "output_type": "execute_result"
    }
   ],
   "source": [
    "df.isnull().sum()"
   ]
  },
  {
   "cell_type": "markdown",
   "id": "794ed424",
   "metadata": {},
   "source": [
    "● Find Mean of Signal strength column using Pandas and Statistics library."
   ]
  },
  {
   "cell_type": "code",
   "execution_count": 126,
   "id": "42f01236",
   "metadata": {},
   "outputs": [
    {
     "name": "stdout",
     "output_type": "stream",
     "text": [
      "Mean Signal strength using Pandas : 3.3076923076923075\n",
      "Mean Signal strength using Statistics : 3.3076923076923075\n"
     ]
    }
   ],
   "source": [
    "a = df['Signal strength']\n",
    "print('Mean Signal strength using Pandas :',a.mean())\n",
    "print('Mean Signal strength using Statistics :',stat.mean(a))"
   ]
  },
  {
   "cell_type": "markdown",
   "id": "b846658a",
   "metadata": {},
   "source": [
    "● Find the Median of Customer Service column using Pandas and Statistics library."
   ]
  },
  {
   "cell_type": "code",
   "execution_count": 127,
   "id": "d7ea0ff7",
   "metadata": {},
   "outputs": [
    {
     "name": "stdout",
     "output_type": "stream",
     "text": [
      "Median of Customer Service using Pandas : 3.0\n",
      "Median of Customer Service using Statistics : 3.0\n"
     ]
    }
   ],
   "source": [
    "b = df['Customer Service']\n",
    "print('Median of Customer Service using Pandas :',b.median())\n",
    "print('Median of Customer Service using Statistics :',stat.median(b))\n"
   ]
  },
  {
   "cell_type": "markdown",
   "id": "8799b565",
   "metadata": {},
   "source": [
    "● Find Mode of Signal strength column using Pandas and Statistics library."
   ]
  },
  {
   "cell_type": "code",
   "execution_count": 128,
   "id": "222400ce",
   "metadata": {},
   "outputs": [
    {
     "name": "stdout",
     "output_type": "stream",
     "text": [
      "Mode Signal strength using Pandas : 0    3\n",
      "Name: Signal strength, dtype: int64\n",
      "Mode Signal strength using Statistics : 3\n"
     ]
    }
   ],
   "source": [
    "c = df['Signal strength']\n",
    "print('Mode Signal strength using Pandas :',c.mode())\n",
    "print('Mode Signal strength using Statistics :',stat.mode(c))"
   ]
  },
  {
   "cell_type": "markdown",
   "id": "aa3fe8a1",
   "metadata": {},
   "source": [
    "● Find Standard deviation of Customer Service column using Pandas and Statistics library."
   ]
  },
  {
   "cell_type": "code",
   "execution_count": 136,
   "id": "53ae832e",
   "metadata": {},
   "outputs": [
    {
     "name": "stdout",
     "output_type": "stream",
     "text": [
      "std of Customer Service using Pandas : 0.9623375261979594\n",
      "std of Customer Service using Statistics : 0.9623375261979595\n"
     ]
    }
   ],
   "source": [
    "d = df['Customer Service']\n",
    "print('std of Customer Service using Pandas :',d.std())\n",
    "print('std of Customer Service using Statistics :',stat.stdev(d))"
   ]
  },
  {
   "cell_type": "markdown",
   "id": "e0ffc8ea",
   "metadata": {},
   "source": [
    "● Find Variance of Customer Service column using Pandas and Statistics library."
   ]
  },
  {
   "cell_type": "code",
   "execution_count": 138,
   "id": "bad67089",
   "metadata": {},
   "outputs": [
    {
     "name": "stdout",
     "output_type": "stream",
     "text": [
      "Variance of Customer Service using Pandas : 0.9260935143288083\n",
      "Variance of Customer Service using Statistics : 0.9260935143288085\n"
     ]
    }
   ],
   "source": [
    "e = df['Customer Service']\n",
    "print('Variance of Customer Service using Pandas :',e.var())\n",
    "print('Variance of Customer Service using Statistics :',stat.variance(e))"
   ]
  },
  {
   "cell_type": "markdown",
   "id": "d3bc0849",
   "metadata": {},
   "source": [
    "● Calculate Percentiles of Value for the Dollar column using Numpy."
   ]
  },
  {
   "cell_type": "code",
   "execution_count": 153,
   "id": "4c1396e6",
   "metadata": {},
   "outputs": [
    {
     "name": "stdout",
     "output_type": "stream",
     "text": [
      "Q1 - 25th percentile is : 3.0\n",
      "Q2 - 50th percentile is : 3.0\n",
      "Q3 - 75th percentile is : 4.0\n",
      "Q4 - 100th percentile is : 5.0\n"
     ]
    }
   ],
   "source": [
    "f = df['Value for the Dollar']\n",
    "print('Q1 - 25th percentile is :',np.percentile(f,25))\n",
    "print('Q2 - 50th percentile is :',np.percentile(f,50))\n",
    "print('Q3 - 75th percentile is :',np.percentile(f,75))\n",
    "print('Q4 - 100th percentile is :',np.percentile(f,100))"
   ]
  },
  {
   "cell_type": "markdown",
   "id": "6a92f32f",
   "metadata": {},
   "source": [
    "● Calculate Range of Value for the Dollar column using Pandas."
   ]
  },
  {
   "cell_type": "code",
   "execution_count": 156,
   "id": "c2c4c191",
   "metadata": {},
   "outputs": [
    {
     "name": "stdout",
     "output_type": "stream",
     "text": [
      "Range of Value for the Dollar is: 4\n"
     ]
    }
   ],
   "source": [
    "g = df['Value for the Dollar']\n",
    "\n",
    "range = g.max() - g.min()\n",
    "print('Range of Value for the Dollar is:',range)"
   ]
  },
  {
   "cell_type": "markdown",
   "id": "a7f86547",
   "metadata": {},
   "source": [
    "● Calculate IQR of Value for the Dollar column using Pandas."
   ]
  },
  {
   "cell_type": "code",
   "execution_count": 159,
   "id": "87b96c72",
   "metadata": {},
   "outputs": [
    {
     "name": "stdout",
     "output_type": "stream",
     "text": [
      "IQR of Value for the Dollar is: 1.0\n"
     ]
    }
   ],
   "source": [
    "h = df['Value for the Dollar']\n",
    "\n",
    "Q1 = np.percentile(h,25)\n",
    "Q3 = np.percentile(h,75)\n",
    "\n",
    "IQR = Q3 - Q1\n",
    "print('IQR of Value for the Dollar is:',IQR)"
   ]
  },
  {
   "cell_type": "markdown",
   "id": "12aab594",
   "metadata": {},
   "source": [
    "● Hypothesis Testing - Using the data in the Cell Phone Survey dataset, apply ANOVA to determine if the mean response for Value for dollar is the same for different types of cell phones."
   ]
  },
  {
   "cell_type": "code",
   "execution_count": 162,
   "id": "7e084029",
   "metadata": {},
   "outputs": [
    {
     "data": {
      "text/plain": [
       "Smart     21\n",
       "Camera    19\n",
       "Basic     12\n",
       "Name: Type, dtype: int64"
      ]
     },
     "execution_count": 162,
     "metadata": {},
     "output_type": "execute_result"
    }
   ],
   "source": [
    "df['Type'].value_counts()"
   ]
  },
  {
   "cell_type": "code",
   "execution_count": 185,
   "id": "fa06b8f6",
   "metadata": {},
   "outputs": [
    {
     "name": "stdout",
     "output_type": "stream",
     "text": [
      "Smart mean 3.8095238095238093\n",
      "Camera_mean 3.1578947368421053\n",
      "Basic_mean 3.1666666666666665\n"
     ]
    }
   ],
   "source": [
    "smart_mean = (df['Value for the Dollar'][df['Type']=='Smart'])\n",
    "camera_mean = (df['Value for the Dollar'][df['Type']=='Camera'])\n",
    "basic_mean = (df['Value for the Dollar'][df['Type']=='Basic'])\n",
    "\n",
    "print('Smart mean',smart_mean.mean())\n",
    "print('Camera_mean',camera_mean.mean())\n",
    "print('Basic_mean',basic_mean.mean())"
   ]
  },
  {
   "cell_type": "code",
   "execution_count": 186,
   "id": "da407cab",
   "metadata": {},
   "outputs": [
    {
     "data": {
      "text/plain": [
       "F_onewayResult(statistic=3.111194352801031, pvalue=0.05345420071280545)"
      ]
     },
     "execution_count": 186,
     "metadata": {},
     "output_type": "execute_result"
    }
   ],
   "source": [
    "stats.f_oneway(smart_mean,camera_mean,basic_mean)"
   ]
  },
  {
   "cell_type": "markdown",
   "id": "0e518d95",
   "metadata": {},
   "source": [
    "Result: pvalue is greater than alpha value=0.05 so we accept the null hypothesis but alternate hypothesis is rejected. we can say that the mean of different type of cell phones are same."
   ]
  }
 ],
 "metadata": {
  "kernelspec": {
   "display_name": "Python 3 (ipykernel)",
   "language": "python",
   "name": "python3"
  },
  "language_info": {
   "codemirror_mode": {
    "name": "ipython",
    "version": 3
   },
   "file_extension": ".py",
   "mimetype": "text/x-python",
   "name": "python",
   "nbconvert_exporter": "python",
   "pygments_lexer": "ipython3",
   "version": "3.10.9"
  }
 },
 "nbformat": 4,
 "nbformat_minor": 5
}
